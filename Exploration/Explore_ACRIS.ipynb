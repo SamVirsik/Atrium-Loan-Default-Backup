{
 "cells": [
  {
   "cell_type": "code",
   "execution_count": 1,
   "id": "a94952a6",
   "metadata": {},
   "outputs": [],
   "source": [
    "import numpy as np\n",
    "import pandas as pd"
   ]
  },
  {
   "cell_type": "code",
   "execution_count": 2,
   "id": "3c4e9242",
   "metadata": {},
   "outputs": [],
   "source": [
    "df = pd.read_csv(r'C:\\Users\\samvi\\Documents\\Coding Projects\\Embedded Work\\Data\\ACRIS_-_Real_Property_Master_20250716.csv')"
   ]
  },
  {
   "cell_type": "code",
   "execution_count": 3,
   "id": "282c4a49",
   "metadata": {},
   "outputs": [
    {
     "data": {
      "text/html": [
       "<div>\n",
       "<style scoped>\n",
       "    .dataframe tbody tr th:only-of-type {\n",
       "        vertical-align: middle;\n",
       "    }\n",
       "\n",
       "    .dataframe tbody tr th {\n",
       "        vertical-align: top;\n",
       "    }\n",
       "\n",
       "    .dataframe thead th {\n",
       "        text-align: right;\n",
       "    }\n",
       "</style>\n",
       "<table border=\"1\" class=\"dataframe\">\n",
       "  <thead>\n",
       "    <tr style=\"text-align: right;\">\n",
       "      <th></th>\n",
       "      <th>DOCUMENT ID</th>\n",
       "      <th>RECORD TYPE</th>\n",
       "      <th>CRFN</th>\n",
       "      <th>BOROUGH</th>\n",
       "      <th>DOC. TYPE</th>\n",
       "      <th>DOC. DATE</th>\n",
       "      <th>DOC. AMOUNT</th>\n",
       "      <th>RECORDED / FILED</th>\n",
       "      <th>MODIFIED DATE</th>\n",
       "      <th>REEL YEAR</th>\n",
       "      <th>REEL NBR</th>\n",
       "      <th>REEL PAGE</th>\n",
       "      <th>% TRANSFERRED</th>\n",
       "      <th>GOOD THROUGH DATE</th>\n",
       "    </tr>\n",
       "  </thead>\n",
       "  <tbody>\n",
       "    <tr>\n",
       "      <th>0</th>\n",
       "      <td>2025040400406003</td>\n",
       "      <td>A</td>\n",
       "      <td>2.025000e+12</td>\n",
       "      <td>1</td>\n",
       "      <td>PREL</td>\n",
       "      <td>05/06/2025</td>\n",
       "      <td>0.0</td>\n",
       "      <td>06/30/2025</td>\n",
       "      <td>06/30/2025</td>\n",
       "      <td>0</td>\n",
       "      <td>0</td>\n",
       "      <td>0</td>\n",
       "      <td>0.0</td>\n",
       "      <td>06/30/2025</td>\n",
       "    </tr>\n",
       "    <tr>\n",
       "      <th>1</th>\n",
       "      <td>2025052800846003</td>\n",
       "      <td>A</td>\n",
       "      <td>2.025000e+12</td>\n",
       "      <td>1</td>\n",
       "      <td>AL&amp;R</td>\n",
       "      <td>05/20/2025</td>\n",
       "      <td>1500000.0</td>\n",
       "      <td>06/03/2025</td>\n",
       "      <td>06/03/2025</td>\n",
       "      <td>0</td>\n",
       "      <td>0</td>\n",
       "      <td>0</td>\n",
       "      <td>0.0</td>\n",
       "      <td>06/30/2025</td>\n",
       "    </tr>\n",
       "    <tr>\n",
       "      <th>2</th>\n",
       "      <td>2025052100496004</td>\n",
       "      <td>A</td>\n",
       "      <td>2.025000e+12</td>\n",
       "      <td>1</td>\n",
       "      <td>ASST</td>\n",
       "      <td>05/09/2025</td>\n",
       "      <td>0.0</td>\n",
       "      <td>06/20/2025</td>\n",
       "      <td>06/20/2025</td>\n",
       "      <td>0</td>\n",
       "      <td>0</td>\n",
       "      <td>0</td>\n",
       "      <td>0.0</td>\n",
       "      <td>06/30/2025</td>\n",
       "    </tr>\n",
       "    <tr>\n",
       "      <th>3</th>\n",
       "      <td>2025060300743010</td>\n",
       "      <td>A</td>\n",
       "      <td>2.025000e+12</td>\n",
       "      <td>1</td>\n",
       "      <td>PAT</td>\n",
       "      <td>04/25/2025</td>\n",
       "      <td>0.0</td>\n",
       "      <td>06/03/2025</td>\n",
       "      <td>06/03/2025</td>\n",
       "      <td>0</td>\n",
       "      <td>0</td>\n",
       "      <td>0</td>\n",
       "      <td>0.0</td>\n",
       "      <td>06/30/2025</td>\n",
       "    </tr>\n",
       "    <tr>\n",
       "      <th>4</th>\n",
       "      <td>2025060500893001</td>\n",
       "      <td>A</td>\n",
       "      <td>2.025000e+12</td>\n",
       "      <td>1</td>\n",
       "      <td>ASST</td>\n",
       "      <td>06/04/2025</td>\n",
       "      <td>0.0</td>\n",
       "      <td>06/06/2025</td>\n",
       "      <td>06/06/2025</td>\n",
       "      <td>0</td>\n",
       "      <td>0</td>\n",
       "      <td>0</td>\n",
       "      <td>0.0</td>\n",
       "      <td>06/30/2025</td>\n",
       "    </tr>\n",
       "  </tbody>\n",
       "</table>\n",
       "</div>"
      ],
      "text/plain": [
       "        DOCUMENT ID RECORD TYPE          CRFN  BOROUGH DOC. TYPE   DOC. DATE  \\\n",
       "0  2025040400406003           A  2.025000e+12        1      PREL  05/06/2025   \n",
       "1  2025052800846003           A  2.025000e+12        1      AL&R  05/20/2025   \n",
       "2  2025052100496004           A  2.025000e+12        1      ASST  05/09/2025   \n",
       "3  2025060300743010           A  2.025000e+12        1       PAT  04/25/2025   \n",
       "4  2025060500893001           A  2.025000e+12        1      ASST  06/04/2025   \n",
       "\n",
       "   DOC. AMOUNT RECORDED / FILED MODIFIED DATE  REEL YEAR  REEL NBR  REEL PAGE  \\\n",
       "0          0.0       06/30/2025    06/30/2025          0         0          0   \n",
       "1    1500000.0       06/03/2025    06/03/2025          0         0          0   \n",
       "2          0.0       06/20/2025    06/20/2025          0         0          0   \n",
       "3          0.0       06/03/2025    06/03/2025          0         0          0   \n",
       "4          0.0       06/06/2025    06/06/2025          0         0          0   \n",
       "\n",
       "   % TRANSFERRED GOOD THROUGH DATE  \n",
       "0            0.0        06/30/2025  \n",
       "1            0.0        06/30/2025  \n",
       "2            0.0        06/30/2025  \n",
       "3            0.0        06/30/2025  \n",
       "4            0.0        06/30/2025  "
      ]
     },
     "execution_count": 3,
     "metadata": {},
     "output_type": "execute_result"
    }
   ],
   "source": [
    "df.head()"
   ]
  },
  {
   "cell_type": "code",
   "execution_count": 4,
   "id": "9bd9353a",
   "metadata": {},
   "outputs": [
    {
     "data": {
      "text/plain": [
       "Index(['DOCUMENT ID', 'RECORD TYPE', 'CRFN', 'BOROUGH', 'DOC. TYPE',\n",
       "       'DOC. DATE', 'DOC. AMOUNT', 'RECORDED / FILED', 'MODIFIED DATE',\n",
       "       'REEL YEAR', 'REEL NBR', 'REEL PAGE', '% TRANSFERRED',\n",
       "       'GOOD THROUGH DATE'],\n",
       "      dtype='object')"
      ]
     },
     "execution_count": 4,
     "metadata": {},
     "output_type": "execute_result"
    }
   ],
   "source": [
    "df.columns"
   ]
  },
  {
   "cell_type": "code",
   "execution_count": null,
   "id": "900eb2da",
   "metadata": {},
   "outputs": [],
   "source": []
  }
 ],
 "metadata": {
  "kernelspec": {
   "display_name": ".venv",
   "language": "python",
   "name": "python3"
  },
  "language_info": {
   "codemirror_mode": {
    "name": "ipython",
    "version": 3
   },
   "file_extension": ".py",
   "mimetype": "text/x-python",
   "name": "python",
   "nbconvert_exporter": "python",
   "pygments_lexer": "ipython3",
   "version": "3.13.5"
  }
 },
 "nbformat": 4,
 "nbformat_minor": 5
}
