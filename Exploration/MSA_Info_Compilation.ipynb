{
 "cells": [
  {
   "cell_type": "code",
   "execution_count": 2,
   "id": "622285ec",
   "metadata": {},
   "outputs": [],
   "source": [
    "import numpy as np\n",
    "import pandas as pd\n",
    "import matplotlib.pyplot as plt"
   ]
  },
  {
   "cell_type": "code",
   "execution_count": null,
   "id": "3bd2fa39",
   "metadata": {},
   "outputs": [],
   "source": [
    "# Merge data\n",
    "merged_df = pd.merge(df1, df2, on=\"MSA Code\", how=\"outer\")"
   ]
  },
  {
   "cell_type": "code",
   "execution_count": null,
   "id": "7692c958",
   "metadata": {},
   "outputs": [],
   "source": [
    "# Save CSV\n",
    "df.to_csv(\"MSA_Compiled_Info.csv\", index=False)"
   ]
  },
  {
   "cell_type": "markdown",
   "id": "2a4bf313",
   "metadata": {},
   "source": [
    "# Code Work"
   ]
  },
  {
   "cell_type": "code",
   "execution_count": 3,
   "id": "aa72951e",
   "metadata": {},
   "outputs": [],
   "source": [
    "df = pd.read_csv(r'C:\\Users\\samvi\\Documents\\Coding Projects\\Embedded Work\\Data\\MSA_HPI (All transactions, not seasonally adjusted).csv', header=None)\n",
    "df.columns = ['MSA Name', 'MSA Code', 'Year', 'Quarter', 'HPI', 'Unknown']"
   ]
  },
  {
   "cell_type": "code",
   "execution_count": 4,
   "id": "e83176bc",
   "metadata": {},
   "outputs": [],
   "source": [
    "df['HPI'] = pd.to_numeric(df['HPI'], errors='coerce')\n",
    "df['MSA Code'] = pd.to_numeric(df['MSA Code'], errors='coerce')"
   ]
  },
  {
   "cell_type": "code",
   "execution_count": 5,
   "id": "a7600ecf",
   "metadata": {},
   "outputs": [],
   "source": [
    "quarter_to_month = {1: 1, 2: 4, 3: 7, 4: 10}\n",
    "df['Month'] = df['Quarter'].map(quarter_to_month)\n",
    "df['Date'] = pd.to_datetime(dict(year=df['Year'], month=df['Month'], day=1))"
   ]
  },
  {
   "cell_type": "code",
   "execution_count": 6,
   "id": "65a74529",
   "metadata": {},
   "outputs": [
    {
     "data": {
      "text/html": [
       "<div>\n",
       "<style scoped>\n",
       "    .dataframe tbody tr th:only-of-type {\n",
       "        vertical-align: middle;\n",
       "    }\n",
       "\n",
       "    .dataframe tbody tr th {\n",
       "        vertical-align: top;\n",
       "    }\n",
       "\n",
       "    .dataframe thead th {\n",
       "        text-align: right;\n",
       "    }\n",
       "</style>\n",
       "<table border=\"1\" class=\"dataframe\">\n",
       "  <thead>\n",
       "    <tr style=\"text-align: right;\">\n",
       "      <th></th>\n",
       "      <th>MSA Name</th>\n",
       "      <th>MSA Code</th>\n",
       "      <th>Year</th>\n",
       "      <th>Quarter</th>\n",
       "      <th>HPI</th>\n",
       "      <th>Unknown</th>\n",
       "      <th>Month</th>\n",
       "      <th>Date</th>\n",
       "    </tr>\n",
       "  </thead>\n",
       "  <tbody>\n",
       "    <tr>\n",
       "      <th>0</th>\n",
       "      <td>Abilene, TX</td>\n",
       "      <td>10180</td>\n",
       "      <td>1975</td>\n",
       "      <td>1</td>\n",
       "      <td>NaN</td>\n",
       "      <td>-</td>\n",
       "      <td>1</td>\n",
       "      <td>1975-01-01</td>\n",
       "    </tr>\n",
       "    <tr>\n",
       "      <th>1</th>\n",
       "      <td>Abilene, TX</td>\n",
       "      <td>10180</td>\n",
       "      <td>1975</td>\n",
       "      <td>2</td>\n",
       "      <td>NaN</td>\n",
       "      <td>-</td>\n",
       "      <td>4</td>\n",
       "      <td>1975-04-01</td>\n",
       "    </tr>\n",
       "    <tr>\n",
       "      <th>2</th>\n",
       "      <td>Abilene, TX</td>\n",
       "      <td>10180</td>\n",
       "      <td>1975</td>\n",
       "      <td>3</td>\n",
       "      <td>NaN</td>\n",
       "      <td>-</td>\n",
       "      <td>7</td>\n",
       "      <td>1975-07-01</td>\n",
       "    </tr>\n",
       "    <tr>\n",
       "      <th>3</th>\n",
       "      <td>Abilene, TX</td>\n",
       "      <td>10180</td>\n",
       "      <td>1975</td>\n",
       "      <td>4</td>\n",
       "      <td>NaN</td>\n",
       "      <td>-</td>\n",
       "      <td>10</td>\n",
       "      <td>1975-10-01</td>\n",
       "    </tr>\n",
       "    <tr>\n",
       "      <th>4</th>\n",
       "      <td>Abilene, TX</td>\n",
       "      <td>10180</td>\n",
       "      <td>1976</td>\n",
       "      <td>1</td>\n",
       "      <td>NaN</td>\n",
       "      <td>-</td>\n",
       "      <td>1</td>\n",
       "      <td>1976-01-01</td>\n",
       "    </tr>\n",
       "  </tbody>\n",
       "</table>\n",
       "</div>"
      ],
      "text/plain": [
       "      MSA Name  MSA Code  Year  Quarter  HPI Unknown  Month       Date\n",
       "0  Abilene, TX     10180  1975        1  NaN       -      1 1975-01-01\n",
       "1  Abilene, TX     10180  1975        2  NaN       -      4 1975-04-01\n",
       "2  Abilene, TX     10180  1975        3  NaN       -      7 1975-07-01\n",
       "3  Abilene, TX     10180  1975        4  NaN       -     10 1975-10-01\n",
       "4  Abilene, TX     10180  1976        1  NaN       -      1 1976-01-01"
      ]
     },
     "execution_count": 6,
     "metadata": {},
     "output_type": "execute_result"
    }
   ],
   "source": [
    "df.head()"
   ]
  },
  {
   "cell_type": "code",
   "execution_count": null,
   "id": "790817af",
   "metadata": {},
   "outputs": [],
   "source": []
  }
 ],
 "metadata": {
  "kernelspec": {
   "display_name": ".venv",
   "language": "python",
   "name": "python3"
  },
  "language_info": {
   "codemirror_mode": {
    "name": "ipython",
    "version": 3
   },
   "file_extension": ".py",
   "mimetype": "text/x-python",
   "name": "python",
   "nbconvert_exporter": "python",
   "pygments_lexer": "ipython3",
   "version": "3.12.3"
  }
 },
 "nbformat": 4,
 "nbformat_minor": 5
}
