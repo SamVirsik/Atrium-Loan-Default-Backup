{
 "cells": [
  {
   "cell_type": "code",
   "execution_count": 1,
   "id": "b417b037",
   "metadata": {},
   "outputs": [],
   "source": [
    "import numpy as np\n",
    "import pandas as pd"
   ]
  },
  {
   "cell_type": "code",
   "execution_count": 2,
   "id": "94137f59",
   "metadata": {},
   "outputs": [
    {
     "name": "stderr",
     "output_type": "stream",
     "text": [
      "C:\\Users\\samvi\\AppData\\Local\\Temp\\ipykernel_43276\\2309519036.py:1: DtypeWarning: Columns (12,19,20,24,27,33) have mixed types. Specify dtype option on import or set low_memory=False.\n",
      "  df = pd.read_csv(r'Data\\mlpdy24q4.csv', encoding='latin1')\n"
     ]
    }
   ],
   "source": [
    "df = pd.read_csv(r'Data\\mlpdy24q4.csv', encoding='latin1')"
   ]
  },
  {
   "cell_type": "code",
   "execution_count": 4,
   "id": "5c514ccd",
   "metadata": {},
   "outputs": [
    {
     "data": {
      "text/plain": [
       "60050"
      ]
     },
     "execution_count": 4,
     "metadata": {},
     "output_type": "execute_result"
    }
   ],
   "source": [
    "df['lnno'].nunique()"
   ]
  },
  {
   "cell_type": "code",
   "execution_count": 5,
   "id": "473d3e71",
   "metadata": {},
   "outputs": [
    {
     "data": {
      "text/plain": [
       "mrtg_status\n",
       "100.0    1223769\n",
       "500.0      31941\n",
       "200.0       3325\n",
       "450.0        590\n",
       "300.0        463\n",
       "250.0         43\n",
       "NaN            4\n",
       "Name: count, dtype: int64"
      ]
     },
     "execution_count": 5,
     "metadata": {},
     "output_type": "execute_result"
    }
   ],
   "source": [
    "df['mrtg_status'].value_counts(dropna=False)"
   ]
  },
  {
   "cell_type": "code",
   "execution_count": 11,
   "id": "bc198500",
   "metadata": {},
   "outputs": [
    {
     "name": "stdout",
     "output_type": "stream",
     "text": [
      "59969\n"
     ]
    }
   ],
   "source": [
    "mask = df['mrtg_status'].isin([100])\n",
    "unique_loan_count = df.loc[mask, 'lnno'].nunique()\n",
    "print(unique_loan_count)"
   ]
  },
  {
   "cell_type": "code",
   "execution_count": 8,
   "id": "0285e408",
   "metadata": {},
   "outputs": [
    {
     "name": "stdout",
     "output_type": "stream",
     "text": [
      "25272\n"
     ]
    }
   ],
   "source": [
    "df['liq_dte'] = pd.to_datetime(df['liq_dte'])\n",
    "df['dt_mty'] = pd.to_datetime(df['dt_mty'])\n",
    "\n",
    "# Filter rows where liquidation date is earlier than maturity date\n",
    "paid_early = df[df['liq_dte'] < df['dt_mty']]\n",
    "\n",
    "# Count unique loans that ever had this occur\n",
    "num_loans_paid_early = paid_early['lnno'].nunique()\n",
    "print(num_loans_paid_early)"
   ]
  },
  {
   "cell_type": "code",
   "execution_count": 9,
   "id": "575ef70d",
   "metadata": {},
   "outputs": [
    {
     "data": {
      "text/html": [
       "<div>\n",
       "<style scoped>\n",
       "    .dataframe tbody tr th:only-of-type {\n",
       "        vertical-align: middle;\n",
       "    }\n",
       "\n",
       "    .dataframe tbody tr th {\n",
       "        vertical-align: top;\n",
       "    }\n",
       "\n",
       "    .dataframe thead th {\n",
       "        text-align: right;\n",
       "    }\n",
       "</style>\n",
       "<table border=\"1\" class=\"dataframe\">\n",
       "  <thead>\n",
       "    <tr style=\"text-align: right;\">\n",
       "      <th></th>\n",
       "      <th>lnno</th>\n",
       "      <th>quarter</th>\n",
       "      <th>mrtg_status</th>\n",
       "      <th>amt_upb_endg</th>\n",
       "      <th>liq_upb_amt</th>\n",
       "      <th>dt_fund</th>\n",
       "      <th>amt_upb_pch</th>\n",
       "      <th>dealname</th>\n",
       "      <th>rate_ltv</th>\n",
       "      <th>rate_dcr</th>\n",
       "      <th>...</th>\n",
       "      <th>PreFcl_FCL_ExpInc</th>\n",
       "      <th>REO_Operating_ExpInc</th>\n",
       "      <th>dt_sold</th>\n",
       "      <th>Sales_Price</th>\n",
       "      <th>Selling_ExpInc</th>\n",
       "      <th>credit_loss</th>\n",
       "      <th>liq_dte</th>\n",
       "      <th>id_link_grp</th>\n",
       "      <th>lien_number</th>\n",
       "      <th>flag_defeased</th>\n",
       "    </tr>\n",
       "  </thead>\n",
       "  <tbody>\n",
       "    <tr>\n",
       "      <th>0</th>\n",
       "      <td>418251002</td>\n",
       "      <td>y00q1</td>\n",
       "      <td>100.0</td>\n",
       "      <td>11260166.52</td>\n",
       "      <td>NaN</td>\n",
       "      <td>1999-09-30</td>\n",
       "      <td>11300000.0</td>\n",
       "      <td>NONE</td>\n",
       "      <td>0.79718</td>\n",
       "      <td>1.268</td>\n",
       "      <td>...</td>\n",
       "      <td>NaN</td>\n",
       "      <td>NaN</td>\n",
       "      <td>NaN</td>\n",
       "      <td>NaN</td>\n",
       "      <td>NaN</td>\n",
       "      <td>NaN</td>\n",
       "      <td>NaN</td>\n",
       "      <td>NaN</td>\n",
       "      <td>NaN</td>\n",
       "      <td>NaN</td>\n",
       "    </tr>\n",
       "    <tr>\n",
       "      <th>1</th>\n",
       "      <td>418251002</td>\n",
       "      <td>y00q2</td>\n",
       "      <td>100.0</td>\n",
       "      <td>11235638.02</td>\n",
       "      <td>NaN</td>\n",
       "      <td>1999-09-30</td>\n",
       "      <td>11300000.0</td>\n",
       "      <td>NONE</td>\n",
       "      <td>0.79718</td>\n",
       "      <td>1.268</td>\n",
       "      <td>...</td>\n",
       "      <td>NaN</td>\n",
       "      <td>NaN</td>\n",
       "      <td>NaN</td>\n",
       "      <td>NaN</td>\n",
       "      <td>NaN</td>\n",
       "      <td>NaN</td>\n",
       "      <td>NaN</td>\n",
       "      <td>NaN</td>\n",
       "      <td>NaN</td>\n",
       "      <td>NaN</td>\n",
       "    </tr>\n",
       "    <tr>\n",
       "      <th>2</th>\n",
       "      <td>418251002</td>\n",
       "      <td>y00q3</td>\n",
       "      <td>100.0</td>\n",
       "      <td>11210626.85</td>\n",
       "      <td>NaN</td>\n",
       "      <td>1999-09-30</td>\n",
       "      <td>11300000.0</td>\n",
       "      <td>NONE</td>\n",
       "      <td>0.79718</td>\n",
       "      <td>1.268</td>\n",
       "      <td>...</td>\n",
       "      <td>NaN</td>\n",
       "      <td>NaN</td>\n",
       "      <td>NaN</td>\n",
       "      <td>NaN</td>\n",
       "      <td>NaN</td>\n",
       "      <td>NaN</td>\n",
       "      <td>NaN</td>\n",
       "      <td>NaN</td>\n",
       "      <td>NaN</td>\n",
       "      <td>NaN</td>\n",
       "    </tr>\n",
       "    <tr>\n",
       "      <th>3</th>\n",
       "      <td>418251002</td>\n",
       "      <td>y00q4</td>\n",
       "      <td>100.0</td>\n",
       "      <td>11185123.52</td>\n",
       "      <td>NaN</td>\n",
       "      <td>1999-09-30</td>\n",
       "      <td>11300000.0</td>\n",
       "      <td>NONE</td>\n",
       "      <td>0.79718</td>\n",
       "      <td>1.268</td>\n",
       "      <td>...</td>\n",
       "      <td>NaN</td>\n",
       "      <td>NaN</td>\n",
       "      <td>NaN</td>\n",
       "      <td>NaN</td>\n",
       "      <td>NaN</td>\n",
       "      <td>NaN</td>\n",
       "      <td>NaN</td>\n",
       "      <td>NaN</td>\n",
       "      <td>NaN</td>\n",
       "      <td>NaN</td>\n",
       "    </tr>\n",
       "    <tr>\n",
       "      <th>4</th>\n",
       "      <td>418251002</td>\n",
       "      <td>y01q1</td>\n",
       "      <td>100.0</td>\n",
       "      <td>11159118.34</td>\n",
       "      <td>NaN</td>\n",
       "      <td>1999-09-30</td>\n",
       "      <td>11300000.0</td>\n",
       "      <td>NONE</td>\n",
       "      <td>0.79718</td>\n",
       "      <td>1.268</td>\n",
       "      <td>...</td>\n",
       "      <td>NaN</td>\n",
       "      <td>NaN</td>\n",
       "      <td>NaN</td>\n",
       "      <td>NaN</td>\n",
       "      <td>NaN</td>\n",
       "      <td>NaN</td>\n",
       "      <td>NaN</td>\n",
       "      <td>NaN</td>\n",
       "      <td>NaN</td>\n",
       "      <td>NaN</td>\n",
       "    </tr>\n",
       "  </tbody>\n",
       "</table>\n",
       "<p>5 rows × 35 columns</p>\n",
       "</div>"
      ],
      "text/plain": [
       "        lnno quarter  mrtg_status  amt_upb_endg  liq_upb_amt     dt_fund  \\\n",
       "0  418251002   y00q1        100.0   11260166.52          NaN  1999-09-30   \n",
       "1  418251002   y00q2        100.0   11235638.02          NaN  1999-09-30   \n",
       "2  418251002   y00q3        100.0   11210626.85          NaN  1999-09-30   \n",
       "3  418251002   y00q4        100.0   11185123.52          NaN  1999-09-30   \n",
       "4  418251002   y01q1        100.0   11159118.34          NaN  1999-09-30   \n",
       "\n",
       "   amt_upb_pch dealname  rate_ltv  rate_dcr  ... PreFcl_FCL_ExpInc  \\\n",
       "0   11300000.0     NONE   0.79718     1.268  ...               NaN   \n",
       "1   11300000.0     NONE   0.79718     1.268  ...               NaN   \n",
       "2   11300000.0     NONE   0.79718     1.268  ...               NaN   \n",
       "3   11300000.0     NONE   0.79718     1.268  ...               NaN   \n",
       "4   11300000.0     NONE   0.79718     1.268  ...               NaN   \n",
       "\n",
       "   REO_Operating_ExpInc dt_sold  Sales_Price  Selling_ExpInc  credit_loss  \\\n",
       "0                   NaN     NaN          NaN             NaN          NaN   \n",
       "1                   NaN     NaN          NaN             NaN          NaN   \n",
       "2                   NaN     NaN          NaN             NaN          NaN   \n",
       "3                   NaN     NaN          NaN             NaN          NaN   \n",
       "4                   NaN     NaN          NaN             NaN          NaN   \n",
       "\n",
       "   liq_dte  id_link_grp  lien_number flag_defeased  \n",
       "0      NaN          NaN          NaN           NaN  \n",
       "1      NaN          NaN          NaN           NaN  \n",
       "2      NaN          NaN          NaN           NaN  \n",
       "3      NaN          NaN          NaN           NaN  \n",
       "4      NaN          NaN          NaN           NaN  \n",
       "\n",
       "[5 rows x 35 columns]"
      ]
     },
     "execution_count": 9,
     "metadata": {},
     "output_type": "execute_result"
    }
   ],
   "source": [
    "df.head()"
   ]
  },
  {
   "cell_type": "code",
   "execution_count": 10,
   "id": "8964da99",
   "metadata": {},
   "outputs": [
    {
     "data": {
      "text/plain": [
       "Index(['lnno', 'quarter', 'mrtg_status', 'amt_upb_endg', 'liq_upb_amt',\n",
       "       'dt_fund', 'amt_upb_pch', 'dealname', 'rate_ltv', 'rate_dcr',\n",
       "       'code_int', 'rate_int', 'cd_fxfltr', 'cnt_amtn_per', 'cnt_blln_term',\n",
       "       'cnt_io_per', 'cnt_mrtg_term', 'cnt_rsdntl_unit', 'cnt_yld_maint',\n",
       "       'code_sr', 'dt_io_end', 'dt_mty', 'geographical_region', 'code_st',\n",
       "       'securitized', 'PreFcl_FCL_ExpInc', 'REO_Operating_ExpInc', 'dt_sold',\n",
       "       'Sales_Price', 'Selling_ExpInc', 'credit_loss', 'liq_dte',\n",
       "       'id_link_grp', 'lien_number', 'flag_defeased'],\n",
       "      dtype='object')"
      ]
     },
     "execution_count": 10,
     "metadata": {},
     "output_type": "execute_result"
    }
   ],
   "source": [
    "df.columns"
   ]
  },
  {
   "cell_type": "code",
   "execution_count": 21,
   "id": "faf4b712",
   "metadata": {},
   "outputs": [
    {
     "data": {
      "text/plain": [
       "securitized\n",
       "YES    735345\n",
       "NO      26653\n",
       "No      12420\n",
       "Name: count, dtype: int64"
      ]
     },
     "execution_count": 21,
     "metadata": {},
     "output_type": "execute_result"
    }
   ],
   "source": [
    "df['securitized'].value_counts()"
   ]
  },
  {
   "cell_type": "code",
   "execution_count": null,
   "id": "c27897a9",
   "metadata": {},
   "outputs": [],
   "source": []
  }
 ],
 "metadata": {
  "kernelspec": {
   "display_name": "embedded-env",
   "language": "python",
   "name": "embedded-env"
  },
  "language_info": {
   "codemirror_mode": {
    "name": "ipython",
    "version": 3
   },
   "file_extension": ".py",
   "mimetype": "text/x-python",
   "name": "python",
   "nbconvert_exporter": "python",
   "pygments_lexer": "ipython3",
   "version": "3.12.3"
  }
 },
 "nbformat": 4,
 "nbformat_minor": 5
}
